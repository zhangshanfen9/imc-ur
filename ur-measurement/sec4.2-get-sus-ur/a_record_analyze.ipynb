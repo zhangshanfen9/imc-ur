{
 "cells": [
  {
   "cell_type": "code",
   "execution_count": null,
   "metadata": {
    "ExecuteTime": {
     "start_time": "2023-09-09T23:11:26.813274Z",
     "end_time": "2023-09-09T23:11:26.877764Z"
    }
   },
   "outputs": [],
   "source": [
    "import pandas as pd\n",
    "import json\n",
    "import os\n",
    "from tqdm import tqdm\n",
    "import re"
   ]
  },
  {
   "cell_type": "code",
   "execution_count": null,
   "metadata": {
    "ExecuteTime": {
     "start_time": "2023-09-09T23:11:26.824324Z",
     "end_time": "2023-09-09T23:11:26.911534Z"
    }
   },
   "outputs": [],
   "source": [
    "BASE_DIR = './output/'\n",
    "GLOBAL_DEFENSE_DETECT_RES_DIR = './detect_protecting_records/'\n",
    "HOSTING_DOMAIN_LIMIT = 50\n",
    "VAILD_RECORD_ANNOTATION_FLOOR_PERCENT = 0.01"
   ]
  },
  {
   "cell_type": "code",
   "execution_count": null,
   "metadata": {
    "ExecuteTime": {
     "start_time": "2023-09-09T23:11:26.830363Z",
     "end_time": "2023-09-09T23:11:26.913092Z"
    }
   },
   "outputs": [],
   "source": [
    "def cmd(command):\n",
    "    ans = os.popen(command).read()\n",
    "    return ans\n",
    "\n",
    "import seaborn as sns\n",
    "import matplotlib.pyplot as plt\n",
    "sns.set_theme(style=\"ticks\")\n",
    "def plot_hist(data, title='test'):\n",
    "    print(title)\n",
    "    ax = sns.displot(\n",
    "        data,\n",
    "        log_scale=(False, True),\n",
    "    )\n",
    "    plt.show()\n",
    "    plt.savefig(ANALYSIS_DIR + title + '.pdf',pad_inches=0.0)\n",
    "\n",
    "\n",
    "import ipaddress\n",
    "\n",
    "def is_protect(ip):\n",
    "    try:\n",
    "        result = ipaddress.ip_address(ip)\n",
    "        if not result.is_global:\n",
    "            return True\n",
    "    except:\n",
    "        return False\n",
    "    return False\n",
    "\n",
    "# print(is_protect('0.0.0.0'))\n",
    "# print(is_protect('127.0.0.1'))\n",
    "# print(is_protect('110.75.139.5'))\n",
    "\n",
    "def load_line_file(source):\n",
    "    res = []\n",
    "    with open(source, 'r') as f:\n",
    "        for line in f:\n",
    "            line = line.strip()\n",
    "            if len(line) == 0:\n",
    "                continue\n",
    "            res.append(line)\n",
    "    return res\n",
    "\n",
    "def to_line_file(arr, dest):\n",
    "    with open(dest, 'w') as f:\n",
    "        f.write('\\n'.join(arr))\n"
   ]
  },
  {
   "cell_type": "code",
   "execution_count": null,
   "metadata": {
    "ExecuteTime": {
     "start_time": "2023-09-09T23:11:26.848615Z",
     "end_time": "2023-09-09T23:11:26.913750Z"
    }
   },
   "outputs": [],
   "source": [
    "\n",
    "cmd('mkdir -p ' + BASE_DIR + 'analyze/a')\n",
    "ANALYSIS_DIR = BASE_DIR + 'analyze/a/'"
   ]
  },
  {
   "cell_type": "markdown",
   "metadata": {},
   "source": [
    "### get correct records"
   ]
  },
  {
   "cell_type": "code",
   "execution_count": null,
   "metadata": {
    "ExecuteTime": {
     "start_time": "2023-09-09T23:11:26.909581Z",
     "end_time": "2023-09-09T23:11:27.003731Z"
    }
   },
   "outputs": [],
   "source": [
    "# final_ip_address, asn, city, ptr, cert_hash\n",
    "annotated_addresses = pd.read_csv(BASE_DIR + 'result/annotated_record.csv')\n",
    "# domain, resolver, rtype, final_ip_address, timestamp\n",
    "resolve_domain_address =  pd.read_csv(BASE_DIR + 'middle/resolver_return_record.csv')\n",
    "\n",
    "\n",
    "print(annotated_addresses.shape)\n",
    "print(resolve_domain_address.shape)\n",
    "print(resolve_domain_address['domain'].unique().shape)\n",
    "print(resolve_domain_address['resolver'].unique().shape)\n",
    "\n",
    "\n",
    "if not os.path.exists(ANALYSIS_DIR + 'correct_addresses.csv'):\n",
    "    full_info_addresses = pd.merge(resolve_domain_address, annotated_addresses, on='final_ip_address', how='left')\n",
    "\n",
    "    domain_count = full_info_addresses.groupby(['domain']).agg({'domain': 'count'}).rename(columns={'domain': 'domain_count'})\n",
    "\n",
    "\n",
    "    # final_ip_address, asn, city, ptr, cert_hash\n",
    "    full2_info_addresses = full_info_addresses.join(domain_count, on='domain')\n",
    "\n",
    "    for key in ['final_ip_address', 'asn', 'city', 'ptr', 'cert_hash']: \n",
    "    # for key in ['final_ip_address', ]: \n",
    "        tsta = full_info_addresses.groupby(['domain', key]).agg({key: 'count'}).rename(columns={key: key + '_count'}).reset_index()\n",
    "        full2_info_addresses = pd.merge(full2_info_addresses, tsta, how='left')\n",
    "\n",
    "    full3_info_addresses = full2_info_addresses[\n",
    "            (full2_info_addresses['final_ip_address_count']/full2_info_addresses['domain_count'] > VAILD_RECORD_ANNOTATION_FLOOR_PERCENT)|\n",
    "            (full2_info_addresses['asn_count']/full2_info_addresses['domain_count'] > VAILD_RECORD_ANNOTATION_FLOOR_PERCENT)|\n",
    "            (full2_info_addresses['city_count']/full2_info_addresses['domain_count'] > VAILD_RECORD_ANNOTATION_FLOOR_PERCENT)|\n",
    "            (full2_info_addresses['ptr_count']/full2_info_addresses['domain_count'] > VAILD_RECORD_ANNOTATION_FLOOR_PERCENT)|\n",
    "            (full2_info_addresses['cert_hash_count']/full2_info_addresses['domain_count'] > VAILD_RECORD_ANNOTATION_FLOOR_PERCENT)\n",
    "        ]\n",
    "\n",
    "\n",
    "    final_standard_addresses = full3_info_addresses[['domain','rtype', 'final_ip_address']].drop_duplicates(keep='first',inplace=False)\n",
    "    final_standard_addresses['distribution_check'] = True\n",
    "    final_standard_addresses.to_csv(ANALYSIS_DIR + 'correct_addresses.csv', index=False)\n",
    "else:\n",
    "    final_standard_addresses = pd.read_csv(ANALYSIS_DIR + 'correct_addresses.csv')"
   ]
  },
  {
   "cell_type": "code",
   "execution_count": null,
   "metadata": {
    "ExecuteTime": {
     "start_time": "2023-09-09T23:11:27.016939Z",
     "end_time": "2023-09-09T23:11:27.050530Z"
    }
   },
   "outputs": [],
   "source": [
    "final_standard_addresses"
   ]
  },
  {
   "cell_type": "markdown",
   "metadata": {},
   "source": [
    "### load records collected from hosting providers"
   ]
  },
  {
   "cell_type": "code",
   "execution_count": null,
   "metadata": {
    "ExecuteTime": {
     "start_time": "2023-09-09T23:11:27.032091Z",
     "end_time": "2023-09-09T23:11:27.051793Z"
    }
   },
   "outputs": [],
   "source": [
    "# remove records with RA_flag\n",
    "# domain, nameserver, ip_address, RA_flag\n",
    "hosting_arr = []\n",
    "\n",
    "with open(BASE_DIR + 'result/oversea_top_list.txt_alookup-thd-300.json', 'r') as f:\n",
    "    for line in tqdm(f):\n",
    "        ns = re.search(r'\"name_server\":\"(.*?):53\"', line).group(1)\n",
    "\n",
    "        if '\"recursion_available\":true' in line:\n",
    "            RA_flag = True\n",
    "        else:\n",
    "            RA_flag = False\n",
    "\n",
    "        try:\n",
    "            obj = json.loads(line)\n",
    "            domain = obj['name']\n",
    "            addresses = obj['data']['ipv4_addresses']\n",
    "\n",
    "            for item in addresses:\n",
    "                hosting_arr.append([domain, ns, item, RA_flag])\n",
    "        except KeyError:\n",
    "            pass\n",
    "\n",
    "hosting_record = pd.DataFrame(hosting_arr, columns=['domain', 'nameserver', 'ip_address', 'RA_flag'])\n",
    "print(hosting_record.shape)\n",
    "\n",
    "# mark correct records\n",
    "hosting_record = hosting_record.rename(columns={'ip_address': 'final_ip_address'})\n",
    "process_standarded_record = pd.merge(hosting_record, final_standard_addresses, on=['domain', 'final_ip_address'], how='left')\n",
    "process_standarded_record['rtype'] = 'A'\n",
    "process_standarded_record['distribution_check'].fillna(False, inplace=True)"
   ]
  },
  {
   "cell_type": "code",
   "execution_count": null,
   "metadata": {
    "ExecuteTime": {
     "start_time": "2023-09-09T23:12:22.146642Z",
     "end_time": "2023-09-09T23:12:22.170560Z"
    }
   },
   "outputs": [],
   "source": [
    "# remove protective records\n",
    "process_standarded_record['protected_check'] =  process_standarded_record['final_ip_address'].apply(is_protect)\n",
    "\n",
    "protective_ns = set()\n",
    "with open(GLOBAL_DEFENSE_DETECT_RES_DIR + 'alookup_check_protect.json', 'r') as f:\n",
    "    for line in tqdm(f):\n",
    "        if ',\"data\":{},' in line:\n",
    "            continue\n",
    "        try:\n",
    "            obj = json.loads(line)\n",
    "            status = obj['status']\n",
    "            if status != 'NOERROR':\n",
    "                continue\n",
    "\n",
    "            ns = re.search(r'\"name_server\":\"(.*?):53\"', line).group(1)\n",
    "            protective_ns.add(ns)\n",
    "        except KeyError:\n",
    "            pass\n",
    "\n",
    "process_standarded_record.loc[process_standarded_record['nameserver'].isin(protective_ns), 'protected_check'] = True"
   ]
  },
  {
   "cell_type": "code",
   "execution_count": null,
   "metadata": {
    "ExecuteTime": {
     "start_time": "2023-09-09T23:12:22.165077Z",
     "end_time": "2023-09-09T23:12:22.172817Z"
    }
   },
   "outputs": [],
   "source": [
    "abnormal_records = process_standarded_record[\n",
    "    (process_standarded_record['RA_flag'] == False)&\n",
    "    (process_standarded_record['distribution_check'] == False)&\n",
    "    (process_standarded_record['protected_check'] == False)\n",
    "]"
   ]
  },
  {
   "cell_type": "code",
   "execution_count": null,
   "metadata": {
    "ExecuteTime": {
     "start_time": "2023-09-09T23:12:46.688918Z",
     "end_time": "2023-09-09T23:12:46.694694Z"
    }
   },
   "outputs": [],
   "source": [
    "abnormal_records.to_csv('./output/analyze/a/suspicious_records.csv', index=False)"
   ]
  },
  {
   "cell_type": "code",
   "execution_count": null,
   "outputs": [],
   "source": [
    "abnormal_records"
   ],
   "metadata": {
    "collapsed": false,
    "ExecuteTime": {
     "start_time": "2023-09-09T23:12:39.834043Z",
     "end_time": "2023-09-09T23:12:39.837538Z"
    }
   }
  }
 ],
 "metadata": {
  "interpreter": {
   "hash": "852f59b1910b9a4c179a144960432bd1683d85a056b73392ab1d489af6d33252"
  },
  "kernelspec": {
   "display_name": "Python 3",
   "language": "python",
   "name": "python3"
  },
  "language_info": {
   "codemirror_mode": {
    "name": "ipython",
    "version": 3
   },
   "file_extension": ".py",
   "mimetype": "text/x-python",
   "name": "python",
   "nbconvert_exporter": "python",
   "pygments_lexer": "ipython3",
   "version": "3.8.8"
  }
 },
 "nbformat": 4,
 "nbformat_minor": 2
}
